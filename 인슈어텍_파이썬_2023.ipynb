{
  "nbformat": 4,
  "nbformat_minor": 0,
  "metadata": {
    "colab": {
      "provenance": [],
      "include_colab_link": true
    },
    "kernelspec": {
      "name": "python3",
      "display_name": "Python 3"
    },
    "language_info": {
      "name": "python"
    }
  },
  "cells": [
    {
      "cell_type": "markdown",
      "metadata": {
        "id": "view-in-github",
        "colab_type": "text"
      },
      "source": [
        "<a href=\"https://colab.research.google.com/github/sinjeonghan/3h/blob/main/%EC%9D%B8%EC%8A%88%EC%96%B4%ED%85%8D_%ED%8C%8C%EC%9D%B4%EC%8D%AC_2023.ipynb\" target=\"_parent\"><img src=\"https://colab.research.google.com/assets/colab-badge.svg\" alt=\"Open In Colab\"/></a>"
      ]
    },
    {
      "cell_type": "code",
      "execution_count": null,
      "metadata": {
        "colab": {
          "base_uri": "https://localhost:8080/"
        },
        "id": "giNGYRR7uTBi",
        "outputId": "6321a4da-2db2-4c8f-81c9-1cd9371c41af"
      },
      "outputs": [
        {
          "output_type": "stream",
          "name": "stdout",
          "text": [
            "Hello World\n"
          ]
        }
      ],
      "source": [
        "print(\"Hello World\")"
      ]
    },
    {
      "cell_type": "code",
      "source": [
        "print(100)"
      ],
      "metadata": {
        "id": "KxMTZac9yoTM",
        "colab": {
          "base_uri": "https://localhost:8080/"
        },
        "outputId": "692ed2d2-a1d0-4f03-ef76-4995b9d20d58"
      },
      "execution_count": null,
      "outputs": [
        {
          "output_type": "stream",
          "name": "stdout",
          "text": [
            "100\n"
          ]
        }
      ]
    },
    {
      "cell_type": "code",
      "source": [
        "print(\"100\")"
      ],
      "metadata": {
        "colab": {
          "base_uri": "https://localhost:8080/"
        },
        "id": "HjyLT18zdeXj",
        "outputId": "a053166b-f011-42a1-ec67-9bbba5315e1b"
      },
      "execution_count": null,
      "outputs": [
        {
          "output_type": "stream",
          "name": "stdout",
          "text": [
            "100\n"
          ]
        }
      ]
    },
    {
      "cell_type": "code",
      "source": [
        "print(100+100)"
      ],
      "metadata": {
        "colab": {
          "base_uri": "https://localhost:8080/"
        },
        "id": "62B_iNZLdggy",
        "outputId": "94079d9a-1236-4eaf-e497-d8aa0a24367b"
      },
      "execution_count": null,
      "outputs": [
        {
          "output_type": "stream",
          "name": "stdout",
          "text": [
            "200\n"
          ]
        }
      ]
    },
    {
      "cell_type": "code",
      "source": [
        "print(\"100+100\")"
      ],
      "metadata": {
        "colab": {
          "base_uri": "https://localhost:8080/"
        },
        "id": "-M-hKpnudqpq",
        "outputId": "328f2a24-040d-48a3-9e33-233f62b24d71"
      },
      "execution_count": null,
      "outputs": [
        {
          "output_type": "stream",
          "name": "stdout",
          "text": [
            "100+100\n"
          ]
        }
      ]
    },
    {
      "cell_type": "code",
      "source": [
        "print(\"%d 출력\" % (100))"
      ],
      "metadata": {
        "colab": {
          "base_uri": "https://localhost:8080/"
        },
        "id": "5Y6w2Ai_dtIy",
        "outputId": "0db7c45d-ca65-4e97-b95b-c796f20b23e6"
      },
      "execution_count": null,
      "outputs": [
        {
          "output_type": "stream",
          "name": "stdout",
          "text": [
            "100 출력\n"
          ]
        }
      ]
    },
    {
      "cell_type": "code",
      "source": [
        "print(\"%d / %d = %d\" % (100, 200, 0.5))"
      ],
      "metadata": {
        "colab": {
          "base_uri": "https://localhost:8080/"
        },
        "id": "y3fVtOn1eEHV",
        "outputId": "b345ce2e-3095-4399-da34-de2ac6911cde"
      },
      "execution_count": null,
      "outputs": [
        {
          "output_type": "stream",
          "name": "stdout",
          "text": [
            "100 / 200 = 0\n"
          ]
        }
      ]
    },
    {
      "cell_type": "code",
      "source": [
        "print(\"%d / %5d = %07.1f\" % (100, 200, 0.5))"
      ],
      "metadata": {
        "colab": {
          "base_uri": "https://localhost:8080/"
        },
        "id": "ouIsiJV7fPFL",
        "outputId": "be6749e6-1fbc-401d-ba46-8549b112ca00"
      },
      "execution_count": null,
      "outputs": [
        {
          "output_type": "stream",
          "name": "stdout",
          "text": [
            "100 /   200 = 00000.5\n"
          ]
        }
      ]
    },
    {
      "cell_type": "code",
      "source": [
        "print(\"%d 그리고 %5d 또는 %05d\" % (123, 456, 789))"
      ],
      "metadata": {
        "colab": {
          "base_uri": "https://localhost:8080/"
        },
        "id": "2Ps8R0r9jX8k",
        "outputId": "fed29687-8399-464f-b831-f8178acab77f"
      },
      "execution_count": null,
      "outputs": [
        {
          "output_type": "stream",
          "name": "stdout",
          "text": [
            "123 그리고   456 또는 00789\n"
          ]
        }
      ]
    },
    {
      "cell_type": "code",
      "source": [
        "print(\"{0:d} 그리고 {1:05d} 또는 {2:05d}\".format(123, 456, 789))"
      ],
      "metadata": {
        "colab": {
          "base_uri": "https://localhost:8080/"
        },
        "id": "8SsMFCfwlISr",
        "outputId": "f56b79e1-0e7c-4644-a54c-cec819eb83ba"
      },
      "execution_count": null,
      "outputs": [
        {
          "output_type": "stream",
          "name": "stdout",
          "text": [
            "123 그리고 00456 또는 00789\n"
          ]
        }
      ]
    },
    {
      "cell_type": "code",
      "source": [
        "print(\"{1:d} 그리고 {2:05d} 또는 {0:05d}\".format(123, 456, 789))"
      ],
      "metadata": {
        "colab": {
          "base_uri": "https://localhost:8080/"
        },
        "id": "b4yIJ-2UlwTN",
        "outputId": "d323e1b5-a407-4119-f600-ccd4c747dc0d"
      },
      "execution_count": null,
      "outputs": [
        {
          "output_type": "stream",
          "name": "stdout",
          "text": [
            "456 그리고 00789 또는 00123\n"
          ]
        }
      ]
    },
    {
      "cell_type": "code",
      "source": [
        "print(\"{1:d}\\n 그리고 {2:05d} \\t 또는 {0:05d}\".format(123, 456, 789))"
      ],
      "metadata": {
        "colab": {
          "base_uri": "https://localhost:8080/"
        },
        "id": "YXyoCm2Gl5S7",
        "outputId": "e1882427-4f2e-4b0f-b11d-bfc4af172b8a"
      },
      "execution_count": null,
      "outputs": [
        {
          "output_type": "stream",
          "name": "stdout",
          "text": [
            "456\n",
            " 그리고 00789 \t 또는 00123\n"
          ]
        }
      ]
    },
    {
      "cell_type": "code",
      "source": [
        "# 변수"
      ],
      "metadata": {
        "id": "M-tlPVbcm26A"
      },
      "execution_count": null,
      "outputs": []
    },
    {
      "cell_type": "code",
      "source": [
        "a = 10\n",
        "print(a)\n",
        "type(a)"
      ],
      "metadata": {
        "colab": {
          "base_uri": "https://localhost:8080/"
        },
        "id": "EoqStqb4nfr3",
        "outputId": "95c44624-0466-4e4a-9f93-9e01ee4076ec"
      },
      "execution_count": null,
      "outputs": [
        {
          "output_type": "stream",
          "name": "stdout",
          "text": [
            "10\n"
          ]
        },
        {
          "output_type": "execute_result",
          "data": {
            "text/plain": [
              "int"
            ]
          },
          "metadata": {},
          "execution_count": 24
        }
      ]
    },
    {
      "cell_type": "code",
      "source": [
        "a = 10.12\n",
        "print(a)\n",
        "type(a)"
      ],
      "metadata": {
        "colab": {
          "base_uri": "https://localhost:8080/"
        },
        "id": "-YaOdLIln_fD",
        "outputId": "15a35c63-3c6f-490e-ce80-e001af5bbb26"
      },
      "execution_count": null,
      "outputs": [
        {
          "output_type": "stream",
          "name": "stdout",
          "text": [
            "10.12\n"
          ]
        },
        {
          "output_type": "execute_result",
          "data": {
            "text/plain": [
              "float"
            ]
          },
          "metadata": {},
          "execution_count": 25
        }
      ]
    },
    {
      "cell_type": "code",
      "source": [
        "a = \"hello\"\n",
        "print(a)\n",
        "type(a)"
      ],
      "metadata": {
        "colab": {
          "base_uri": "https://localhost:8080/"
        },
        "id": "gl7q3N5CoNmD",
        "outputId": "f64b44f6-b160-4466-e388-23675304aef7"
      },
      "execution_count": null,
      "outputs": [
        {
          "output_type": "stream",
          "name": "stdout",
          "text": [
            "hello\n"
          ]
        },
        {
          "output_type": "execute_result",
          "data": {
            "text/plain": [
              "str"
            ]
          },
          "metadata": {},
          "execution_count": 26
        }
      ]
    },
    {
      "cell_type": "code",
      "source": [
        "a = True\n",
        "print(a)\n",
        "type(a)"
      ],
      "metadata": {
        "colab": {
          "base_uri": "https://localhost:8080/"
        },
        "id": "9mXIj8BKoSpC",
        "outputId": "aba2799e-0143-46c0-e7c9-cd8beb857e7b"
      },
      "execution_count": null,
      "outputs": [
        {
          "output_type": "stream",
          "name": "stdout",
          "text": [
            "True\n"
          ]
        },
        {
          "output_type": "execute_result",
          "data": {
            "text/plain": [
              "bool"
            ]
          },
          "metadata": {},
          "execution_count": 27
        }
      ]
    },
    {
      "cell_type": "code",
      "source": [
        "a = 10\n",
        "b = a\n",
        "print(b)"
      ],
      "metadata": {
        "colab": {
          "base_uri": "https://localhost:8080/"
        },
        "id": "tgMQTDXVo8tj",
        "outputId": "9b4495a1-58b0-4078-d7f7-4bbaa4026696"
      },
      "execution_count": null,
      "outputs": [
        {
          "output_type": "stream",
          "name": "stdout",
          "text": [
            "10\n"
          ]
        }
      ]
    },
    {
      "cell_type": "code",
      "source": [
        "a = 10 + 20\n",
        "print(a)"
      ],
      "metadata": {
        "colab": {
          "base_uri": "https://localhost:8080/"
        },
        "id": "GOJ3HNEiqHqk",
        "outputId": "9bb552bf-b008-4b3e-b291-8273b9592d53"
      },
      "execution_count": null,
      "outputs": [
        {
          "output_type": "stream",
          "name": "stdout",
          "text": [
            "30\n"
          ]
        }
      ]
    },
    {
      "cell_type": "code",
      "source": [
        "a"
      ],
      "metadata": {
        "colab": {
          "base_uri": "https://localhost:8080/"
        },
        "id": "soggDPaoqRvT",
        "outputId": "7b6dc490-60f2-46ca-b0ba-218351b0e8f9"
      },
      "execution_count": null,
      "outputs": [
        {
          "output_type": "execute_result",
          "data": {
            "text/plain": [
              "30"
            ]
          },
          "metadata": {},
          "execution_count": 30
        }
      ]
    },
    {
      "cell_type": "code",
      "source": [
        "b"
      ],
      "metadata": {
        "colab": {
          "base_uri": "https://localhost:8080/"
        },
        "id": "2VF31elcqo4j",
        "outputId": "e49d4ce2-8285-474c-f5ba-b492c0f91d83"
      },
      "execution_count": null,
      "outputs": [
        {
          "output_type": "execute_result",
          "data": {
            "text/plain": [
              "10"
            ]
          },
          "metadata": {},
          "execution_count": 31
        }
      ]
    },
    {
      "cell_type": "code",
      "source": [
        "print(a)\n",
        "print(b)"
      ],
      "metadata": {
        "colab": {
          "base_uri": "https://localhost:8080/"
        },
        "id": "0ywLpiDsqrd7",
        "outputId": "a4602e9e-e08b-46c0-c68e-4eccc969504f"
      },
      "execution_count": null,
      "outputs": [
        {
          "output_type": "stream",
          "name": "stdout",
          "text": [
            "30\n",
            "10\n"
          ]
        }
      ]
    },
    {
      "cell_type": "code",
      "source": [
        "a\n",
        "b"
      ],
      "metadata": {
        "colab": {
          "base_uri": "https://localhost:8080/"
        },
        "id": "NUu6uQkqq7ar",
        "outputId": "b3ce7c29-6d25-49dd-d95e-2436feae8f31"
      },
      "execution_count": null,
      "outputs": [
        {
          "output_type": "execute_result",
          "data": {
            "text/plain": [
              "10"
            ]
          },
          "metadata": {},
          "execution_count": 33
        }
      ]
    },
    {
      "cell_type": "code",
      "source": [
        "a = a + 10\n",
        "print(a)"
      ],
      "metadata": {
        "colab": {
          "base_uri": "https://localhost:8080/"
        },
        "id": "DP6Dqe9sq-NE",
        "outputId": "ad5fab35-01c3-4d9c-80cc-4d117ed32a28"
      },
      "execution_count": null,
      "outputs": [
        {
          "output_type": "stream",
          "name": "stdout",
          "text": [
            "40\n"
          ]
        }
      ]
    },
    {
      "cell_type": "code",
      "source": [
        "c = c + 10\n",
        "print(c)"
      ],
      "metadata": {
        "colab": {
          "base_uri": "https://localhost:8080/",
          "height": 199
        },
        "id": "Dxo1VfTHrVJ7",
        "outputId": "8162e1e5-ee2f-4a1b-fc1b-d1a40a105ae0"
      },
      "execution_count": null,
      "outputs": [
        {
          "output_type": "error",
          "ename": "NameError",
          "evalue": "ignored",
          "traceback": [
            "\u001b[0;31m---------------------------------------------------------------------------\u001b[0m",
            "\u001b[0;31mNameError\u001b[0m                                 Traceback (most recent call last)",
            "\u001b[0;32m<ipython-input-35-34e29afb83e1>\u001b[0m in \u001b[0;36m<cell line: 1>\u001b[0;34m()\u001b[0m\n\u001b[0;32m----> 1\u001b[0;31m \u001b[0mc\u001b[0m \u001b[0;34m=\u001b[0m \u001b[0mc\u001b[0m \u001b[0;34m+\u001b[0m \u001b[0;36m10\u001b[0m\u001b[0;34m\u001b[0m\u001b[0;34m\u001b[0m\u001b[0m\n\u001b[0m\u001b[1;32m      2\u001b[0m \u001b[0mprint\u001b[0m\u001b[0;34m(\u001b[0m\u001b[0mc\u001b[0m\u001b[0;34m)\u001b[0m\u001b[0;34m\u001b[0m\u001b[0;34m\u001b[0m\u001b[0m\n",
            "\u001b[0;31mNameError\u001b[0m: name 'c' is not defined"
          ]
        }
      ]
    },
    {
      "cell_type": "code",
      "source": [
        "c = 0\n",
        "c = c + 10\n",
        "print(c)"
      ],
      "metadata": {
        "colab": {
          "base_uri": "https://localhost:8080/"
        },
        "id": "gV9Llov7rcRb",
        "outputId": "3fe429eb-33f5-40b8-867f-8c93e3dd86db"
      },
      "execution_count": null,
      "outputs": [
        {
          "output_type": "stream",
          "name": "stdout",
          "text": [
            "10\n"
          ]
        }
      ]
    },
    {
      "cell_type": "code",
      "source": [
        "a = 10\n",
        "b = 10.1\n",
        "type(a+b)"
      ],
      "metadata": {
        "colab": {
          "base_uri": "https://localhost:8080/"
        },
        "id": "aUuXEdwHro9C",
        "outputId": "146caf64-b406-41b7-b1b2-f1d9c72262b6"
      },
      "execution_count": null,
      "outputs": [
        {
          "output_type": "execute_result",
          "data": {
            "text/plain": [
              "float"
            ]
          },
          "metadata": {},
          "execution_count": 37
        }
      ]
    },
    {
      "cell_type": "code",
      "source": [
        "100 ** 200"
      ],
      "metadata": {
        "colab": {
          "base_uri": "https://localhost:8080/"
        },
        "id": "zpiA1TXEr_eE",
        "outputId": "fdd1d5ac-9ceb-4412-d3e1-2ea605ecd1e6"
      },
      "execution_count": null,
      "outputs": [
        {
          "output_type": "execute_result",
          "data": {
            "text/plain": [
              "10000000000000000000000000000000000000000000000000000000000000000000000000000000000000000000000000000000000000000000000000000000000000000000000000000000000000000000000000000000000000000000000000000000000000000000000000000000000000000000000000000000000000000000000000000000000000000000000000000000000000000000000000000000000000000000000000000000000000000000000000000000000000000000000000000000000000000"
            ]
          },
          "metadata": {},
          "execution_count": 38
        }
      ]
    },
    {
      "cell_type": "code",
      "source": [
        "2.5e-4"
      ],
      "metadata": {
        "colab": {
          "base_uri": "https://localhost:8080/"
        },
        "id": "oxIIKTy0sKOk",
        "outputId": "b8b22b36-32a7-42d3-9573-4edb55f3a419"
      },
      "execution_count": null,
      "outputs": [
        {
          "output_type": "execute_result",
          "data": {
            "text/plain": [
              "0.00025"
            ]
          },
          "metadata": {},
          "execution_count": 42
        }
      ]
    },
    {
      "cell_type": "code",
      "source": [
        "9%2"
      ],
      "metadata": {
        "colab": {
          "base_uri": "https://localhost:8080/"
        },
        "id": "QQJRkzJPsiRr",
        "outputId": "3d5c80a9-4a0b-4388-df91-da7cc05bc98f"
      },
      "execution_count": null,
      "outputs": [
        {
          "output_type": "execute_result",
          "data": {
            "text/plain": [
              "1"
            ]
          },
          "metadata": {},
          "execution_count": 43
        }
      ]
    },
    {
      "cell_type": "code",
      "source": [
        "9//2"
      ],
      "metadata": {
        "colab": {
          "base_uri": "https://localhost:8080/"
        },
        "id": "ceU88TvWtBUL",
        "outputId": "917bfdc7-e88b-43a0-b409-6db9bbd01198"
      },
      "execution_count": null,
      "outputs": [
        {
          "output_type": "execute_result",
          "data": {
            "text/plain": [
              "4"
            ]
          },
          "metadata": {},
          "execution_count": 44
        }
      ]
    },
    {
      "cell_type": "code",
      "source": [
        "a = 10\n",
        "b = 20\n",
        "print(a >= b)"
      ],
      "metadata": {
        "colab": {
          "base_uri": "https://localhost:8080/"
        },
        "id": "6w_xVIm8tI_7",
        "outputId": "17d81111-77ef-43f6-a407-0c9eff535154"
      },
      "execution_count": null,
      "outputs": [
        {
          "output_type": "stream",
          "name": "stdout",
          "text": [
            "False\n"
          ]
        }
      ]
    },
    {
      "cell_type": "code",
      "source": [
        "print(a <= b)"
      ],
      "metadata": {
        "colab": {
          "base_uri": "https://localhost:8080/"
        },
        "id": "-F6LH5E1tsd2",
        "outputId": "4b1e3321-f1e7-4aa3-a5e7-762e2f9a0c6d"
      },
      "execution_count": null,
      "outputs": [
        {
          "output_type": "stream",
          "name": "stdout",
          "text": [
            "True\n"
          ]
        }
      ]
    },
    {
      "cell_type": "code",
      "source": [
        "print(a == b)"
      ],
      "metadata": {
        "colab": {
          "base_uri": "https://localhost:8080/"
        },
        "id": "qQyipnGXtw08",
        "outputId": "3836013c-2a10-40e6-8472-45243851ad19"
      },
      "execution_count": null,
      "outputs": [
        {
          "output_type": "stream",
          "name": "stdout",
          "text": [
            "False\n"
          ]
        }
      ]
    },
    {
      "cell_type": "code",
      "source": [
        "print(a != b)"
      ],
      "metadata": {
        "colab": {
          "base_uri": "https://localhost:8080/"
        },
        "id": "H9SBgxs4t4MK",
        "outputId": "043386a0-cc32-450a-8526-bda6c369c477"
      },
      "execution_count": null,
      "outputs": [
        {
          "output_type": "stream",
          "name": "stdout",
          "text": [
            "True\n"
          ]
        }
      ]
    },
    {
      "cell_type": "code",
      "source": [
        "c = a > b\n",
        "print(c)"
      ],
      "metadata": {
        "colab": {
          "base_uri": "https://localhost:8080/"
        },
        "id": "3MsN4AQ1t85q",
        "outputId": "be7bdd74-c917-49e8-dc2e-438f20167780"
      },
      "execution_count": null,
      "outputs": [
        {
          "output_type": "stream",
          "name": "stdout",
          "text": [
            "False\n"
          ]
        }
      ]
    },
    {
      "cell_type": "code",
      "source": [
        "print(a,b)"
      ],
      "metadata": {
        "colab": {
          "base_uri": "https://localhost:8080/"
        },
        "id": "YtKVxMKnuQM8",
        "outputId": "b44c9deb-9eb3-40c5-a21c-63e449848adf"
      },
      "execution_count": null,
      "outputs": [
        {
          "output_type": "stream",
          "name": "stdout",
          "text": [
            "10 20\n"
          ]
        }
      ]
    },
    {
      "cell_type": "code",
      "source": [
        "a= 10\n",
        "b= 10.1"
      ],
      "metadata": {
        "id": "dqvc_7DoxCir"
      },
      "execution_count": null,
      "outputs": []
    },
    {
      "cell_type": "code",
      "source": [
        "print(float(a))"
      ],
      "metadata": {
        "colab": {
          "base_uri": "https://localhost:8080/"
        },
        "id": "NXA3BF12xHq8",
        "outputId": "2293b9e2-aa96-4491-a2d2-9346cfed18ac"
      },
      "execution_count": null,
      "outputs": [
        {
          "output_type": "stream",
          "name": "stdout",
          "text": [
            "10.0\n"
          ]
        }
      ]
    },
    {
      "cell_type": "code",
      "source": [
        "print(int(b))"
      ],
      "metadata": {
        "colab": {
          "base_uri": "https://localhost:8080/"
        },
        "id": "SvO57cDbxMEs",
        "outputId": "8edad48d-4419-46a8-a958-d83ac8918286"
      },
      "execution_count": null,
      "outputs": [
        {
          "output_type": "stream",
          "name": "stdout",
          "text": [
            "10\n"
          ]
        }
      ]
    },
    {
      "cell_type": "code",
      "source": [
        "a= \"10\"\n",
        "b= \"10.1\""
      ],
      "metadata": {
        "id": "rqUgZ7v3xSIT"
      },
      "execution_count": null,
      "outputs": []
    },
    {
      "cell_type": "code",
      "source": [
        "type(b)"
      ],
      "metadata": {
        "colab": {
          "base_uri": "https://localhost:8080/"
        },
        "id": "q3c1drE3xjIX",
        "outputId": "349c20f7-639d-4b87-9e5e-1ac7586dcda3"
      },
      "execution_count": null,
      "outputs": [
        {
          "output_type": "execute_result",
          "data": {
            "text/plain": [
              "str"
            ]
          },
          "metadata": {},
          "execution_count": 58
        }
      ]
    },
    {
      "cell_type": "code",
      "source": [
        "type(int(a))"
      ],
      "metadata": {
        "colab": {
          "base_uri": "https://localhost:8080/"
        },
        "id": "TMntzTD8xafr",
        "outputId": "e9045d78-2de3-41f2-a603-7814a75c9eeb"
      },
      "execution_count": null,
      "outputs": [
        {
          "output_type": "execute_result",
          "data": {
            "text/plain": [
              "int"
            ]
          },
          "metadata": {},
          "execution_count": 57
        }
      ]
    },
    {
      "cell_type": "code",
      "source": [
        "type(float(b))"
      ],
      "metadata": {
        "colab": {
          "base_uri": "https://localhost:8080/"
        },
        "id": "kgrtNp2PxfQL",
        "outputId": "d790b16f-ef17-497d-e7d3-466ddda33a65"
      },
      "execution_count": null,
      "outputs": [
        {
          "output_type": "execute_result",
          "data": {
            "text/plain": [
              "float"
            ]
          },
          "metadata": {},
          "execution_count": 59
        }
      ]
    },
    {
      "cell_type": "code",
      "source": [
        "type(float(a))"
      ],
      "metadata": {
        "colab": {
          "base_uri": "https://localhost:8080/"
        },
        "id": "hyz9NLxgxscE",
        "outputId": "e21697b4-7187-407d-c306-c321b7c39977"
      },
      "execution_count": null,
      "outputs": [
        {
          "output_type": "execute_result",
          "data": {
            "text/plain": [
              "float"
            ]
          },
          "metadata": {},
          "execution_count": 60
        }
      ]
    },
    {
      "cell_type": "code",
      "source": [
        "type(int(b))"
      ],
      "metadata": {
        "colab": {
          "base_uri": "https://localhost:8080/",
          "height": 181
        },
        "id": "Ay5-3SQJxxOE",
        "outputId": "cbfdc72f-86ae-4173-80cb-ea29a2266144"
      },
      "execution_count": null,
      "outputs": [
        {
          "output_type": "error",
          "ename": "ValueError",
          "evalue": "ignored",
          "traceback": [
            "\u001b[0;31m---------------------------------------------------------------------------\u001b[0m",
            "\u001b[0;31mValueError\u001b[0m                                Traceback (most recent call last)",
            "\u001b[0;32m<ipython-input-61-b8d4efffd83d>\u001b[0m in \u001b[0;36m<cell line: 1>\u001b[0;34m()\u001b[0m\n\u001b[0;32m----> 1\u001b[0;31m \u001b[0mtype\u001b[0m\u001b[0;34m(\u001b[0m\u001b[0mint\u001b[0m\u001b[0;34m(\u001b[0m\u001b[0mb\u001b[0m\u001b[0;34m)\u001b[0m\u001b[0;34m)\u001b[0m\u001b[0;34m\u001b[0m\u001b[0;34m\u001b[0m\u001b[0m\n\u001b[0m",
            "\u001b[0;31mValueError\u001b[0m: invalid literal for int() with base 10: '10.1'"
          ]
        }
      ]
    },
    {
      "cell_type": "code",
      "source": [
        "a= 10\n",
        "b= 10.1"
      ],
      "metadata": {
        "id": "iM7LLj8rx2SL"
      },
      "execution_count": null,
      "outputs": []
    },
    {
      "cell_type": "code",
      "source": [
        "print(a+10, b+10)"
      ],
      "metadata": {
        "colab": {
          "base_uri": "https://localhost:8080/"
        },
        "id": "hti1TpyxyF9T",
        "outputId": "298ed109-8b1c-4668-8bc9-ae6ba20d2a83"
      },
      "execution_count": null,
      "outputs": [
        {
          "output_type": "stream",
          "name": "stdout",
          "text": [
            "20 20.1\n"
          ]
        }
      ]
    },
    {
      "cell_type": "code",
      "source": [
        "print(a+b)"
      ],
      "metadata": {
        "colab": {
          "base_uri": "https://localhost:8080/"
        },
        "id": "UXZI4ML3yIlb",
        "outputId": "5f02cd50-5c17-49fc-b7cf-be339618fbf7"
      },
      "execution_count": null,
      "outputs": [
        {
          "output_type": "stream",
          "name": "stdout",
          "text": [
            "20.1\n"
          ]
        }
      ]
    },
    {
      "cell_type": "code",
      "source": [
        "print(str(a)+str(b))"
      ],
      "metadata": {
        "colab": {
          "base_uri": "https://localhost:8080/"
        },
        "id": "9c26IXsByOB0",
        "outputId": "dc54cce9-dc04-462e-f9e0-98b44f32af6d"
      },
      "execution_count": null,
      "outputs": [
        {
          "output_type": "stream",
          "name": "stdout",
          "text": [
            "1010.1\n"
          ]
        }
      ]
    },
    {
      "cell_type": "code",
      "source": [
        "a = \"hello\"\n",
        "b = \"world\"\n",
        "print(a+b)"
      ],
      "metadata": {
        "colab": {
          "base_uri": "https://localhost:8080/"
        },
        "id": "ir-03XAhyShv",
        "outputId": "cef580d0-81e1-4efe-e6cc-dfff37c28a85"
      },
      "execution_count": null,
      "outputs": [
        {
          "output_type": "stream",
          "name": "stdout",
          "text": [
            "helloworld\n"
          ]
        }
      ]
    },
    {
      "cell_type": "code",
      "source": [
        "a = 10\n",
        "b = 20\n",
        "print((a > 5) and (a > 20))"
      ],
      "metadata": {
        "colab": {
          "base_uri": "https://localhost:8080/"
        },
        "id": "4Ytq7VF1yfcb",
        "outputId": "bee11675-a9bc-44cb-bbd0-639ec89812c1"
      },
      "execution_count": null,
      "outputs": [
        {
          "output_type": "stream",
          "name": "stdout",
          "text": [
            "False\n"
          ]
        }
      ]
    },
    {
      "cell_type": "code",
      "source": [
        "print((a > 5) or (a > 20))"
      ],
      "metadata": {
        "colab": {
          "base_uri": "https://localhost:8080/"
        },
        "id": "CZ8FY2nkzO--",
        "outputId": "c3b3fd14-627b-45e0-9522-cf6eb210b8ee"
      },
      "execution_count": null,
      "outputs": [
        {
          "output_type": "stream",
          "name": "stdout",
          "text": [
            "True\n"
          ]
        }
      ]
    },
    {
      "cell_type": "code",
      "source": [
        "not( (a > 20))"
      ],
      "metadata": {
        "colab": {
          "base_uri": "https://localhost:8080/"
        },
        "id": "uWHQtcQ-zTRO",
        "outputId": "6fecc331-182a-491e-c622-ab5e5bb46edd"
      },
      "execution_count": null,
      "outputs": [
        {
          "output_type": "execute_result",
          "data": {
            "text/plain": [
              "True"
            ]
          },
          "metadata": {},
          "execution_count": 69
        }
      ]
    },
    {
      "cell_type": "code",
      "source": [
        "money, c500, c100, c50, c10 = 0,0,0,0,0\n",
        "\n",
        "money = 3478\n",
        "\n",
        "c500 = money // 500\n",
        "money = money % 500\n",
        "\n",
        "c100 = money // 100\n",
        "money = money % 100\n",
        "\n",
        "c50 = money // 50\n",
        "money = money % 50\n",
        "\n",
        "c10 = money // 10\n",
        "money = money % 10\n",
        "\n",
        "print(c500, c100, c50, c10, money)"
      ],
      "metadata": {
        "colab": {
          "base_uri": "https://localhost:8080/"
        },
        "id": "_8KBKYgyzmPX",
        "outputId": "b22cd85a-0aaa-4f61-c858-7d0f8ee7049c"
      },
      "execution_count": null,
      "outputs": [
        {
          "output_type": "stream",
          "name": "stdout",
          "text": [
            "6 4 1 2 8\n"
          ]
        }
      ]
    },
    {
      "cell_type": "code",
      "source": [
        "# 조건문"
      ],
      "metadata": {
        "id": "pDssl2zJ1CB8"
      },
      "execution_count": null,
      "outputs": []
    },
    {
      "cell_type": "code",
      "source": [
        "a = 99\n",
        "\n",
        "if a < 100 :\n",
        "  print(\"a는 100보다 작다.\")"
      ],
      "metadata": {
        "colab": {
          "base_uri": "https://localhost:8080/"
        },
        "id": "FGx_V7R01vXd",
        "outputId": "30a8b892-064d-4d1c-ce24-6e2a8aebf125"
      },
      "execution_count": null,
      "outputs": [
        {
          "output_type": "stream",
          "name": "stdout",
          "text": [
            "a는 100보다 작다.\n"
          ]
        }
      ]
    },
    {
      "cell_type": "code",
      "source": [
        "a = 110\n",
        "\n",
        "if a < 100 :\n",
        "  print(\"a는 100보다 작다.\")"
      ],
      "metadata": {
        "id": "wPZ0cgcx2P7t"
      },
      "execution_count": null,
      "outputs": []
    },
    {
      "cell_type": "code",
      "source": [
        "a = 99\n",
        "\n",
        "if a < 100 :\n",
        "  print(\"a는 100보다 작다.\")\n",
        "else :\n",
        "  print(\"a는 100보다 크거나 같다.\")"
      ],
      "metadata": {
        "colab": {
          "base_uri": "https://localhost:8080/"
        },
        "id": "AeE8o8r62X5L",
        "outputId": "29b5134c-836d-4c9f-aec6-e189f3b453bb"
      },
      "execution_count": null,
      "outputs": [
        {
          "output_type": "stream",
          "name": "stdout",
          "text": [
            "a는 100보다 작다.\n"
          ]
        }
      ]
    },
    {
      "cell_type": "code",
      "source": [
        "a = 110\n",
        "\n",
        "if a < 100 :\n",
        "  if a < 50 :\n",
        "    print(\"a는 50보다 작다\")\n",
        "  else :\n",
        "    print(\"a는 50보다 크거나 같고 100보다 작다.\")\n",
        "else :\n",
        "  print(\"a는 100보다 크거나 같다\")"
      ],
      "metadata": {
        "colab": {
          "base_uri": "https://localhost:8080/"
        },
        "id": "aW7rcoqM3Ik4",
        "outputId": "758991cb-70eb-411c-9173-8572f6e27866"
      },
      "execution_count": null,
      "outputs": [
        {
          "output_type": "stream",
          "name": "stdout",
          "text": [
            "a는 100보다 크거나 같다\n"
          ]
        }
      ]
    },
    {
      "cell_type": "code",
      "source": [
        "fruit = [\"사과\", \"배\", \"딸기\", \"포도\"]\n",
        "fruit"
      ],
      "metadata": {
        "colab": {
          "base_uri": "https://localhost:8080/"
        },
        "id": "JSc1hRnN5KEs",
        "outputId": "325ac7b4-7ef3-464b-dd6e-2a4f25dc1085"
      },
      "execution_count": null,
      "outputs": [
        {
          "output_type": "execute_result",
          "data": {
            "text/plain": [
              "['사과', '배', '딸기', '포도']"
            ]
          },
          "metadata": {},
          "execution_count": 80
        }
      ]
    },
    {
      "cell_type": "code",
      "source": [
        "fruit.append(\"귤\")\n",
        "fruit"
      ],
      "metadata": {
        "colab": {
          "base_uri": "https://localhost:8080/"
        },
        "id": "MS-c4Ve06WVX",
        "outputId": "2a8a558d-6fa6-462e-c0f5-ba9ba46e2098"
      },
      "execution_count": null,
      "outputs": [
        {
          "output_type": "execute_result",
          "data": {
            "text/plain": [
              "['사과', '배', '딸기', '포도', '귤']"
            ]
          },
          "metadata": {},
          "execution_count": 81
        }
      ]
    },
    {
      "cell_type": "code",
      "source": [
        "if \"딸기\" in fruit :\n",
        "  print(\"딸기가 왔어요\")"
      ],
      "metadata": {
        "colab": {
          "base_uri": "https://localhost:8080/"
        },
        "id": "ddpbnVhN6rns",
        "outputId": "991e8920-eb16-4aef-950a-ca8f35f871a7"
      },
      "execution_count": null,
      "outputs": [
        {
          "output_type": "stream",
          "name": "stdout",
          "text": [
            "딸기가 왔어요\n"
          ]
        }
      ]
    },
    {
      "cell_type": "code",
      "source": [
        "# 반복문"
      ],
      "metadata": {
        "id": "v03Zo2ibh4Um"
      },
      "execution_count": null,
      "outputs": []
    },
    {
      "cell_type": "code",
      "source": [
        "print(\"안녕하세요?\")\n",
        "print(\"안녕하세요?\")\n",
        "print(\"안녕하세요?\")"
      ],
      "metadata": {
        "id": "mn39iqoo7U5j",
        "colab": {
          "base_uri": "https://localhost:8080/"
        },
        "outputId": "958b823f-5c15-4eb5-993c-b21554b6346d"
      },
      "execution_count": null,
      "outputs": [
        {
          "output_type": "stream",
          "name": "stdout",
          "text": [
            "안녕하세요?\n",
            "안녕하세요?\n",
            "안녕하세요?\n"
          ]
        }
      ]
    },
    {
      "cell_type": "code",
      "source": [
        "for i in range(0, 3, 1):\n",
        "  print(\"안녕하세요?\")"
      ],
      "metadata": {
        "colab": {
          "base_uri": "https://localhost:8080/"
        },
        "id": "hIHKP2fkhIg6",
        "outputId": "e6a56b38-690a-4604-a80f-e2b98f81d98b"
      },
      "execution_count": null,
      "outputs": [
        {
          "output_type": "stream",
          "name": "stdout",
          "text": [
            "안녕하세요?\n",
            "안녕하세요?\n",
            "안녕하세요?\n"
          ]
        }
      ]
    },
    {
      "cell_type": "code",
      "source": [
        "for i in [0,10, 20, 30, 40] :\n",
        "  print(\"안녕하세요?\")"
      ],
      "metadata": {
        "colab": {
          "base_uri": "https://localhost:8080/"
        },
        "id": "GxB68a-EjAJB",
        "outputId": "5e97ccf2-37aa-4dab-edf9-8fac0ffc4c52"
      },
      "execution_count": null,
      "outputs": [
        {
          "output_type": "stream",
          "name": "stdout",
          "text": [
            "안녕하세요?\n",
            "안녕하세요?\n",
            "안녕하세요?\n",
            "안녕하세요?\n",
            "안녕하세요?\n"
          ]
        }
      ]
    },
    {
      "cell_type": "code",
      "source": [
        "for i in [\"a\", \"b\", \"c\"] :\n",
        "  print(\"안녕하세요?\")"
      ],
      "metadata": {
        "colab": {
          "base_uri": "https://localhost:8080/"
        },
        "id": "kxD7hZpQjnPd",
        "outputId": "d9289ea8-bd90-487d-b87f-2c68da59e906"
      },
      "execution_count": null,
      "outputs": [
        {
          "output_type": "stream",
          "name": "stdout",
          "text": [
            "안녕하세요?\n",
            "안녕하세요?\n",
            "안녕하세요?\n"
          ]
        }
      ]
    },
    {
      "cell_type": "code",
      "source": [
        "for i in [1,1,1,1,1,1] :\n",
        "  print(\"안녕하세요?\")"
      ],
      "metadata": {
        "colab": {
          "base_uri": "https://localhost:8080/"
        },
        "id": "jHoW1tE6kH-5",
        "outputId": "2faac227-61ef-464f-cb31-82418fc4a73b"
      },
      "execution_count": null,
      "outputs": [
        {
          "output_type": "stream",
          "name": "stdout",
          "text": [
            "안녕하세요?\n",
            "안녕하세요?\n",
            "안녕하세요?\n",
            "안녕하세요?\n",
            "안녕하세요?\n",
            "안녕하세요?\n"
          ]
        }
      ]
    },
    {
      "cell_type": "code",
      "source": [
        "range(0, 3, 1)"
      ],
      "metadata": {
        "colab": {
          "base_uri": "https://localhost:8080/"
        },
        "id": "Hx8SVMZ-kOVR",
        "outputId": "49449ea2-f75e-4c9a-e97e-a8cca7326988"
      },
      "execution_count": null,
      "outputs": [
        {
          "output_type": "execute_result",
          "data": {
            "text/plain": [
              "range(0, 3)"
            ]
          },
          "metadata": {},
          "execution_count": 10
        }
      ]
    },
    {
      "cell_type": "code",
      "source": [
        "list(range(0, 11, 1))"
      ],
      "metadata": {
        "colab": {
          "base_uri": "https://localhost:8080/"
        },
        "id": "0CLdzXD9k_Ti",
        "outputId": "07c293e2-c7e3-4d17-d10d-02e1fe40b0f6"
      },
      "execution_count": null,
      "outputs": [
        {
          "output_type": "execute_result",
          "data": {
            "text/plain": [
              "[0, 1, 2, 3, 4, 5, 6, 7, 8, 9, 10]"
            ]
          },
          "metadata": {},
          "execution_count": 15
        }
      ]
    },
    {
      "cell_type": "code",
      "source": [
        "for i in range(0, 6) :\n",
        "  print(\"안녕하세요?\")"
      ],
      "metadata": {
        "colab": {
          "base_uri": "https://localhost:8080/"
        },
        "id": "7b-suxOtlLg7",
        "outputId": "7617405e-ec6a-4ade-a060-9481eedafb3b"
      },
      "execution_count": null,
      "outputs": [
        {
          "output_type": "stream",
          "name": "stdout",
          "text": [
            "안녕하세요?\n",
            "안녕하세요?\n",
            "안녕하세요?\n",
            "안녕하세요?\n",
            "안녕하세요?\n",
            "안녕하세요?\n"
          ]
        }
      ]
    },
    {
      "cell_type": "code",
      "source": [
        "list(range(6))"
      ],
      "metadata": {
        "colab": {
          "base_uri": "https://localhost:8080/"
        },
        "id": "wT0buta_mXD8",
        "outputId": "1eadf0b7-4504-4e73-a9a9-eb28c7459998"
      },
      "execution_count": null,
      "outputs": [
        {
          "output_type": "execute_result",
          "data": {
            "text/plain": [
              "[0, 1, 2, 3, 4, 5]"
            ]
          },
          "metadata": {},
          "execution_count": 21
        }
      ]
    },
    {
      "cell_type": "code",
      "source": [
        "for i in [-8, 17, 3, -47, 0] :\n",
        "  print(\"%3d : Hello!\" % i)"
      ],
      "metadata": {
        "colab": {
          "base_uri": "https://localhost:8080/"
        },
        "id": "bYIsppTgmmU4",
        "outputId": "8b759a19-7fa4-4344-f93c-56620ba55bba"
      },
      "execution_count": null,
      "outputs": [
        {
          "output_type": "stream",
          "name": "stdout",
          "text": [
            " -8 : Hello!\n",
            " 17 : Hello!\n",
            "  3 : Hello!\n",
            "-47 : Hello!\n",
            "  0 : Hello!\n"
          ]
        }
      ]
    },
    {
      "cell_type": "code",
      "source": [
        "for i in range(5) :\n",
        "  print(\"%3d : Hello!\" % i)"
      ],
      "metadata": {
        "colab": {
          "base_uri": "https://localhost:8080/"
        },
        "id": "H_KCRsxfnuPC",
        "outputId": "765c0800-f578-4fc3-a63c-44be83dc9b43"
      },
      "execution_count": null,
      "outputs": [
        {
          "output_type": "stream",
          "name": "stdout",
          "text": [
            "  0 : Hello!\n",
            "  1 : Hello!\n",
            "  2 : Hello!\n",
            "  3 : Hello!\n",
            "  4 : Hello!\n"
          ]
        }
      ]
    },
    {
      "cell_type": "code",
      "source": [
        "for i in range(0, 100, 10) :\n",
        "  print(\"%3d : Hello!\" % i)"
      ],
      "metadata": {
        "colab": {
          "base_uri": "https://localhost:8080/"
        },
        "id": "lwghgqWVn-v5",
        "outputId": "6e4fe15f-d49e-4a3a-ad16-289b730e09d8"
      },
      "execution_count": null,
      "outputs": [
        {
          "output_type": "stream",
          "name": "stdout",
          "text": [
            "  0 : Hello!\n",
            " 10 : Hello!\n",
            " 20 : Hello!\n",
            " 30 : Hello!\n",
            " 40 : Hello!\n",
            " 50 : Hello!\n",
            " 60 : Hello!\n",
            " 70 : Hello!\n",
            " 80 : Hello!\n",
            " 90 : Hello!\n"
          ]
        }
      ]
    },
    {
      "cell_type": "code",
      "source": [
        "for i in range(1,6) :\n",
        "  print(\"%d\" % i , end = \" \")"
      ],
      "metadata": {
        "colab": {
          "base_uri": "https://localhost:8080/"
        },
        "id": "cn4hTnmBoNF7",
        "outputId": "d967e01d-d294-4aaf-f017-772658e2b490"
      },
      "execution_count": null,
      "outputs": [
        {
          "output_type": "stream",
          "name": "stdout",
          "text": [
            "1 2 3 4 5 "
          ]
        }
      ]
    },
    {
      "cell_type": "code",
      "source": [
        "i, sum = 0,0\n",
        "\n",
        "for i in range(1,11) :  # 시작할 때 i = 1\n",
        "  sum = sum + i         # 1번쨰 반복시 sum : 1\n",
        "  print(\"i = %2d, sum = %2d\" % (i,sum))\n",
        "\n",
        "print(\"sum : %d\" % sum)"
      ],
      "metadata": {
        "colab": {
          "base_uri": "https://localhost:8080/"
        },
        "id": "If9wk3MmqAJV",
        "outputId": "8e549792-2f72-428b-d92b-a893f90c43d2"
      },
      "execution_count": null,
      "outputs": [
        {
          "output_type": "stream",
          "name": "stdout",
          "text": [
            "i =  1, sum =  1\n",
            "i =  2, sum =  3\n",
            "i =  3, sum =  6\n",
            "i =  4, sum = 10\n",
            "i =  5, sum = 15\n",
            "i =  6, sum = 21\n",
            "i =  7, sum = 28\n",
            "i =  8, sum = 36\n",
            "i =  9, sum = 45\n",
            "i = 10, sum = 55\n",
            "sum : 55\n"
          ]
        }
      ]
    },
    {
      "cell_type": "code",
      "source": [
        "i, sum = 0,0\n",
        "\n",
        "for i in range(501,1000, 2) :\n",
        "  sum = sum + i\n",
        "\n",
        "print(\"sum : %d\" % sum)"
      ],
      "metadata": {
        "colab": {
          "base_uri": "https://localhost:8080/"
        },
        "id": "PS64DP-euSwo",
        "outputId": "d43a9da8-2293-49ac-8617-6969bb6412dd"
      },
      "execution_count": null,
      "outputs": [
        {
          "output_type": "stream",
          "name": "stdout",
          "text": [
            "sum : 187500\n"
          ]
        }
      ]
    },
    {
      "cell_type": "code",
      "source": [
        "i, sum = 0,0\n",
        "\n",
        "for i in range(501,1000) :\n",
        "  if i % 2 == 1 :\n",
        "    sum = sum + i\n",
        "\n",
        "print(\"sum : %d\" % sum)"
      ],
      "metadata": {
        "colab": {
          "base_uri": "https://localhost:8080/"
        },
        "id": "qNORdMzcvJ8C",
        "outputId": "68a7d52a-5665-49fb-b71d-ed8971c10719"
      },
      "execution_count": null,
      "outputs": [
        {
          "output_type": "stream",
          "name": "stdout",
          "text": [
            "sum : 187500\n"
          ]
        }
      ]
    },
    {
      "cell_type": "code",
      "source": [
        "year, month = 0, 0\n",
        "\n",
        "for year in range(2023, 2026) :\n",
        "  for month in range(1,13) :\n",
        "    print(\"%d년 %2d월\" % (year, month))"
      ],
      "metadata": {
        "colab": {
          "base_uri": "https://localhost:8080/"
        },
        "id": "hrT6f8HovliA",
        "outputId": "e7f76219-3bee-49b7-c000-2300db14eb94"
      },
      "execution_count": null,
      "outputs": [
        {
          "output_type": "stream",
          "name": "stdout",
          "text": [
            "2023년  1월\n",
            "2023년  2월\n",
            "2023년  3월\n",
            "2023년  4월\n",
            "2023년  5월\n",
            "2023년  6월\n",
            "2023년  7월\n",
            "2023년  8월\n",
            "2023년  9월\n",
            "2023년 10월\n",
            "2023년 11월\n",
            "2023년 12월\n",
            "2024년  1월\n",
            "2024년  2월\n",
            "2024년  3월\n",
            "2024년  4월\n",
            "2024년  5월\n",
            "2024년  6월\n",
            "2024년  7월\n",
            "2024년  8월\n",
            "2024년  9월\n",
            "2024년 10월\n",
            "2024년 11월\n",
            "2024년 12월\n",
            "2025년  1월\n",
            "2025년  2월\n",
            "2025년  3월\n",
            "2025년  4월\n",
            "2025년  5월\n",
            "2025년  6월\n",
            "2025년  7월\n",
            "2025년  8월\n",
            "2025년  9월\n",
            "2025년 10월\n",
            "2025년 11월\n",
            "2025년 12월\n"
          ]
        }
      ]
    },
    {
      "cell_type": "code",
      "source": [
        "i, k = 0, 0\n",
        "\n",
        "for i in range(2023, 2026) :\n",
        "  for k in range(1,13) :\n",
        "    print(\"%d년 %2d월\" % ())"
      ],
      "metadata": {
        "id": "wplmlUmVw2_b"
      },
      "execution_count": null,
      "outputs": []
    }
  ]
}